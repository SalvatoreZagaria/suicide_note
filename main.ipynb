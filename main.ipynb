{
 "cells": [
  {
   "cell_type": "code",
   "execution_count": null,
   "outputs": [],
   "source": [
    "import pandas as pd\n",
    "import matplotlib.pyplot as plt\n",
    "\n",
    "data = pd.read_csv(\"suicide_rates.csv\")\n",
    "data = data[\n",
    "    [\n",
    "        \"country\",\n",
    "        \"year\",\n",
    "        \"sex\",\n",
    "        \"age\",\n",
    "        \"suicides_no\",\n",
    "        \"population\",\n",
    "        \"suicides/100k pop\",\n",
    "    ]\n",
    "]"
   ],
   "metadata": {
    "collapsed": false,
    "pycharm": {
     "name": "#%%\n"
    }
   }
  },
  {
   "cell_type": "code",
   "execution_count": null,
   "outputs": [],
   "source": [
    "%load external_help.py\n",
    "\n",
    "# n suicides of every country over the years\n",
    "\n",
    "all_countries = data[\"country\"].unique()\n",
    "\n",
    "for country in all_countries:\n",
    "    country_info = data.loc[data[\"country\"] == country]\n",
    "    per_year = {}\n",
    "    for year, n in country_info.groupby(\"year\"):\n",
    "        per_year[year] = n[\"suicides_no\"].sum()\n",
    "    sa = pd.Series(per_year)\n",
    "\n",
    "    sa.plot(kind=\"bar\", title=country)\n",
    "    plt.show()"
   ],
   "metadata": {
    "collapsed": false,
    "pycharm": {
     "name": "#%%\n",
     "is_executing": false
    }
   }
  },
  {
   "cell_type": "code",
   "execution_count": null,
   "outputs": [],
   "source": [
    "%load external_help.py\n",
    "\n",
    "# n suicides for all the years divided by age\n",
    "# (this one shows a great consistency over the years)\n",
    "\n",
    "all_years = data[\"year\"].unique()\n",
    "all_years.sort()\n",
    "for year in all_years.sort():\n",
    "    year_info = data.loc[data[\"year\"] == year]\n",
    "    per_age = {}\n",
    "    for age, n in year_info.groupby(\"age\"):\n",
    "        per_age[age] = n[\"suicides_no\"].sum()\n",
    "    sa = pd.Series(per_age)\n",
    "\n",
    "    sa.plot(kind=\"bar\", title=year)\n",
    "    plt.show()"
   ],
   "metadata": {
    "collapsed": false,
    "pycharm": {
     "name": "#%%\n",
     "is_executing": false
    }
   }
  },
  {
   "cell_type": "code",
   "execution_count": 16,
   "outputs": [
    {
     "data": {
      "text/plain": "<Figure size 432x288 with 1 Axes>",
      "image/png": "[encoded data removed]"
     },
     "metadata": {
      "needs_background": "light"
     },
     "output_type": "display_data"
    },
    {
     "name": "stdout",
     "text": [
      "The year with the highest suicide number is 1999\n",
      "The year with the lowest suicide number is 1985\n"
     ],
     "output_type": "stream"
    }
   ],
   "source": [
    "%load external_help.py\n",
    "\n",
    "# world n suicides over the years\n",
    "# years of min - max n suicides\n",
    "\n",
    "all_years = data[\"year\"].unique()\n",
    "all_years.sort()\n",
    "per_year = {}\n",
    "for year in all_years:\n",
    "    if year == 2016:\n",
    "        continue\n",
    "    year_info = data.loc[data[\"year\"] == year]\n",
    "    per_year[year] = year_info[\"suicides_no\"].sum()\n",
    "\n",
    "sa = pd.Series(per_year)\n",
    "\n",
    "sa.plot(kind=\"bar\", title=\"World suicides over the years\")\n",
    "plt.show()\n",
    "\n",
    "max_year = max(per_year, key=lambda k: per_year[k])\n",
    "print(\"The year with the highest suicide number is {}\".format(max_year))\n",
    "\n",
    "min_year = min(per_year, key=lambda k: per_year[k])\n",
    "print(\"The year with the lowest suicide number is {}\".format(min_year))"
   ],
   "metadata": {
    "collapsed": false,
    "pycharm": {
     "name": "#%%\n",
     "is_executing": false
    }
   }
  }
 ],
 "metadata": {
  "kernelspec": {
   "display_name": "Python 3",
   "language": "python",
   "name": "python3"
  },
  "language_info": {
   "codemirror_mode": {
    "name": "ipython",
    "version": 2
   },
   "file_extension": ".py",
   "mimetype": "text/x-python",
   "name": "python",
   "nbconvert_exporter": "python",
   "pygments_lexer": "ipython2",
   "version": "2.7.6"
  },
  "pycharm": {
   "stem_cell": {
    "cell_type": "raw",
    "source": [],
    "metadata": {
     "collapsed": false
    }
   }
  }
 },
 "nbformat": 4,
 "nbformat_minor": 0
}